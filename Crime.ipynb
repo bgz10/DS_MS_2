{
 "cells": [
  {
   "cell_type": "code",
   "execution_count": null,
   "metadata": {},
   "outputs": [],
   "source": [
    "import matplotlib.pyplot as plt\n",
    "import numpy as np\n",
    "import pandas as pd\n",
    "import urllib\n",
    "import matplotlib.dates as mdates\n",
    "import math"
   ]
  },
  {
   "cell_type": "code",
   "execution_count": null,
   "metadata": {},
   "outputs": [],
   "source": [
    "df_arrest = pd.read_csv('NYPD_Arrest_Data__Year_to_Date_.csv')\n",
    "df_shooting = pd.read_csv('NYPD_Shooting_Incident_Data__Year_To_Date_.csv')\n",
    "pd.options.display.max_columns = 999"
   ]
  },
  {
   "cell_type": "markdown",
   "metadata": {},
   "source": [
    "# Addding all the District to their Borough"
   ]
  },
  {
   "cell_type": "code",
   "execution_count": null,
   "metadata": {},
   "outputs": [],
   "source": [
    "df_Manhattan = df_arrest.loc[df_arrest['ARREST_PRECINCT'] == 1]\n",
    "df_Manhattan = df_Manhattan.append(df_arrest.loc[df_arrest['ARREST_PRECINCT'] == 5])\n",
    "df_Manhattan = df_Manhattan.append(df_arrest.loc[df_arrest['ARREST_PRECINCT'] == 6])\n",
    "df_Manhattan = df_Manhattan.append(df_arrest.loc[df_arrest['ARREST_PRECINCT'] == 7])\n",
    "df_Manhattan = df_Manhattan.append(df_arrest.loc[df_arrest['ARREST_PRECINCT'] == 9])\n",
    "df_Manhattan = df_Manhattan.append(df_arrest.loc[df_arrest['ARREST_PRECINCT'] == 10])\n",
    "df_Manhattan = df_Manhattan.append(df_arrest.loc[df_arrest['ARREST_PRECINCT'] == 13])\n",
    "df_Manhattan = df_Manhattan.append(df_arrest.loc[df_arrest['ARREST_PRECINCT'] == 17])\n",
    "df_Manhattan = df_Manhattan.append(df_arrest.loc[df_arrest['ARREST_PRECINCT'] == 19])\n",
    "df_Manhattan = df_Manhattan.append(df_arrest.loc[df_arrest['ARREST_PRECINCT'] == 20])\n",
    "df_Manhattan = df_Manhattan.append(df_arrest.loc[df_arrest['ARREST_PRECINCT'] == 23])\n",
    "df_Manhattan = df_Manhattan.append(df_arrest.loc[df_arrest['ARREST_PRECINCT'] == 24])\n",
    "df_Manhattan = df_Manhattan.append(df_arrest.loc[df_arrest['ARREST_PRECINCT'] == 25])\n",
    "df_Manhattan = df_Manhattan.append(df_arrest.loc[df_arrest['ARREST_PRECINCT'] == 26])\n",
    "df_Manhattan = df_Manhattan.append(df_arrest.loc[df_arrest['ARREST_PRECINCT'] == 28])\n",
    "df_Manhattan = df_Manhattan.append(df_arrest.loc[df_arrest['ARREST_PRECINCT'] == 30])\n",
    "df_Manhattan = df_Manhattan.append(df_arrest.loc[df_arrest['ARREST_PRECINCT'] == 32])\n",
    "df_Manhattan = df_Manhattan.append(df_arrest.loc[df_arrest['ARREST_PRECINCT'] == 33])\n",
    "df_Manhattan = df_Manhattan.append(df_arrest.loc[df_arrest['ARREST_PRECINCT'] == 34])\n",
    "df_Bronx = df_arrest.loc[df_arrest['ARREST_PRECINCT'] == 40]\n",
    "df_Bronx = df_Bronx.append(df_arrest.loc[df_arrest['ARREST_PRECINCT'] == 41])\n",
    "df_Bronx = df_Bronx.append(df_arrest.loc[df_arrest['ARREST_PRECINCT'] == 42])\n",
    "df_Bronx = df_Bronx.append(df_arrest.loc[df_arrest['ARREST_PRECINCT'] == 43])\n",
    "df_Bronx = df_Bronx.append(df_arrest.loc[df_arrest['ARREST_PRECINCT'] == 44])\n",
    "df_Bronx = df_Bronx.append(df_arrest.loc[df_arrest['ARREST_PRECINCT'] == 45])\n",
    "df_Bronx = df_Bronx.append(df_arrest.loc[df_arrest['ARREST_PRECINCT'] == 46])\n",
    "df_Bronx = df_Bronx.append(df_arrest.loc[df_arrest['ARREST_PRECINCT'] == 47])\n",
    "df_Bronx = df_Bronx.append(df_arrest.loc[df_arrest['ARREST_PRECINCT'] == 48])\n",
    "df_Bronx = df_Bronx.append(df_arrest.loc[df_arrest['ARREST_PRECINCT'] == 49])\n",
    "df_Bronx = df_Bronx.append(df_arrest.loc[df_arrest['ARREST_PRECINCT'] == 50])\n",
    "df_Bronx = df_Bronx.append(df_arrest.loc[df_arrest['ARREST_PRECINCT'] == 52])\n",
    "df_Brooklyn = df_arrest.loc[df_arrest['ARREST_PRECINCT'] == 60]\n",
    "df_Brooklyn = df_Brooklyn.append(df_arrest.loc[df_arrest['ARREST_PRECINCT'] == 61])\n",
    "df_Brooklyn = df_Brooklyn.append(df_arrest.loc[df_arrest['ARREST_PRECINCT'] == 62])\n",
    "df_Brooklyn = df_Brooklyn.append(df_arrest.loc[df_arrest['ARREST_PRECINCT'] == 63])\n",
    "df_Brooklyn = df_Brooklyn.append(df_arrest.loc[df_arrest['ARREST_PRECINCT'] == 66])\n",
    "df_Brooklyn = df_Brooklyn.append(df_arrest.loc[df_arrest['ARREST_PRECINCT'] == 67])\n",
    "df_Brooklyn = df_Brooklyn.append(df_arrest.loc[df_arrest['ARREST_PRECINCT'] == 68])\n",
    "df_Brooklyn = df_Brooklyn.append(df_arrest.loc[df_arrest['ARREST_PRECINCT'] == 69])\n",
    "df_Brooklyn = df_Brooklyn.append(df_arrest.loc[df_arrest['ARREST_PRECINCT'] == 70])\n",
    "df_Brooklyn = df_Brooklyn.append(df_arrest.loc[df_arrest['ARREST_PRECINCT'] == 71])\n",
    "df_Brooklyn = df_Brooklyn.append(df_arrest.loc[df_arrest['ARREST_PRECINCT'] == 72])\n",
    "df_Brooklyn = df_Brooklyn.append(df_arrest.loc[df_arrest['ARREST_PRECINCT'] == 73])\n",
    "df_Brooklyn = df_Brooklyn.append(df_arrest.loc[df_arrest['ARREST_PRECINCT'] == 75])\n",
    "df_Brooklyn = df_Brooklyn.append(df_arrest.loc[df_arrest['ARREST_PRECINCT'] == 76])\n",
    "df_Brooklyn = df_Brooklyn.append(df_arrest.loc[df_arrest['ARREST_PRECINCT'] == 77])\n",
    "df_Brooklyn = df_Brooklyn.append(df_arrest.loc[df_arrest['ARREST_PRECINCT'] == 78])\n",
    "df_Brooklyn = df_Brooklyn.append(df_arrest.loc[df_arrest['ARREST_PRECINCT'] == 79])\n",
    "df_Brooklyn = df_Brooklyn.append(df_arrest.loc[df_arrest['ARREST_PRECINCT'] == 81])\n",
    "df_Brooklyn = df_Brooklyn.append(df_arrest.loc[df_arrest['ARREST_PRECINCT'] == 83])\n",
    "df_Brooklyn = df_Brooklyn.append(df_arrest.loc[df_arrest['ARREST_PRECINCT'] == 84])\n",
    "df_Brooklyn = df_Brooklyn.append(df_arrest.loc[df_arrest['ARREST_PRECINCT'] == 88])\n",
    "df_Brooklyn = df_Brooklyn.append(df_arrest.loc[df_arrest['ARREST_PRECINCT'] == 90])\n",
    "df_Brooklyn = df_Brooklyn.append(df_arrest.loc[df_arrest['ARREST_PRECINCT'] == 94])\n",
    "df_Queens = df_arrest.loc[df_arrest['ARREST_PRECINCT'] == 100]\n",
    "df_Queens = df_Queens.append(df_arrest.loc[df_arrest['ARREST_PRECINCT'] == 101])\n",
    "df_Queens = df_Queens.append(df_arrest.loc[df_arrest['ARREST_PRECINCT'] == 102])\n",
    "df_Queens = df_Queens.append(df_arrest.loc[df_arrest['ARREST_PRECINCT'] == 103])\n",
    "df_Queens = df_Queens.append(df_arrest.loc[df_arrest['ARREST_PRECINCT'] == 104])\n",
    "df_Queens = df_Queens.append(df_arrest.loc[df_arrest['ARREST_PRECINCT'] == 105])\n",
    "df_Queens = df_Queens.append(df_arrest.loc[df_arrest['ARREST_PRECINCT'] == 106])\n",
    "df_Queens = df_Queens.append(df_arrest.loc[df_arrest['ARREST_PRECINCT'] == 107])\n",
    "df_Queens = df_Queens.append(df_arrest.loc[df_arrest['ARREST_PRECINCT'] == 108])\n",
    "df_Queens = df_Queens.append(df_arrest.loc[df_arrest['ARREST_PRECINCT'] == 109])\n",
    "df_Queens = df_Queens.append(df_arrest.loc[df_arrest['ARREST_PRECINCT'] == 110])\n",
    "df_Queens = df_Queens.append(df_arrest.loc[df_arrest['ARREST_PRECINCT'] == 111])\n",
    "df_Queens = df_Queens.append(df_arrest.loc[df_arrest['ARREST_PRECINCT'] == 112])\n",
    "df_Queens = df_Queens.append(df_arrest.loc[df_arrest['ARREST_PRECINCT'] == 113])\n",
    "df_Queens = df_Queens.append(df_arrest.loc[df_arrest['ARREST_PRECINCT'] == 114])\n",
    "df_Queens = df_Queens.append(df_arrest.loc[df_arrest['ARREST_PRECINCT'] == 115])\n",
    "df_SI = df_arrest.loc[df_arrest['ARREST_PRECINCT'] == 120]\n",
    "df_SI = df_SI.append(df_arrest.loc[df_arrest['ARREST_PRECINCT'] == 121])\n",
    "df_SI = df_SI.append(df_arrest.loc[df_arrest['ARREST_PRECINCT'] == 122])\n",
    "df_SI = df_SI.append(df_arrest.loc[df_arrest['ARREST_PRECINCT'] == 123])\n",
    "df_ManhattanS = df_shooting.loc[df_shooting['PRECINCT'] == 1]\n",
    "df_ManhattanS = df_ManhattanS.append(df_shooting.loc[df_shooting['PRECINCT'] == 5])\n",
    "df_ManhattanS = df_ManhattanS.append(df_shooting.loc[df_shooting['PRECINCT'] == 6])\n",
    "df_ManhattanS = df_ManhattanS.append(df_shooting.loc[df_shooting['PRECINCT'] == 7])\n",
    "df_ManhattanS = df_ManhattanS.append(df_shooting.loc[df_shooting['PRECINCT'] == 9])\n",
    "df_ManhattanS = df_ManhattanS.append(df_shooting.loc[df_shooting['PRECINCT'] == 10])\n",
    "df_ManhattanS = df_ManhattanS.append(df_shooting.loc[df_shooting['PRECINCT'] == 13])\n",
    "df_ManhattanS = df_ManhattanS.append(df_shooting.loc[df_shooting['PRECINCT'] == 17])\n",
    "df_ManhattanS = df_ManhattanS.append(df_shooting.loc[df_shooting['PRECINCT'] == 19])\n",
    "df_ManhattanS = df_ManhattanS.append(df_shooting.loc[df_shooting['PRECINCT'] == 20])\n",
    "df_ManhattanS = df_ManhattanS.append(df_shooting.loc[df_shooting['PRECINCT'] == 23])\n",
    "df_ManhattanS = df_ManhattanS.append(df_shooting.loc[df_shooting['PRECINCT'] == 24])\n",
    "df_ManhattanS = df_ManhattanS.append(df_shooting.loc[df_shooting['PRECINCT'] == 25])\n",
    "df_ManhattanS = df_ManhattanS.append(df_shooting.loc[df_shooting['PRECINCT'] == 26])\n",
    "df_ManhattanS = df_ManhattanS.append(df_shooting.loc[df_shooting['PRECINCT'] == 28])\n",
    "df_ManhattanS = df_ManhattanS.append(df_shooting.loc[df_shooting['PRECINCT'] == 30])\n",
    "df_ManhattanS = df_ManhattanS.append(df_shooting.loc[df_shooting['PRECINCT'] == 32])\n",
    "df_ManhattanS = df_ManhattanS.append(df_shooting.loc[df_shooting['PRECINCT'] == 33])\n",
    "df_ManhattanS = df_ManhattanS.append(df_shooting.loc[df_shooting['PRECINCT'] == 34])\n",
    "df_QueensS = df_shooting.loc[df_shooting['PRECINCT'] == 100]\n",
    "df_QueensS = df_QueensS.append(df_shooting.loc[df_shooting['PRECINCT'] == 101])\n",
    "df_QueensS = df_QueensS.append(df_shooting.loc[df_shooting['PRECINCT'] == 102])\n",
    "df_QueensS = df_QueensS.append(df_shooting.loc[df_shooting['PRECINCT'] == 103])\n",
    "df_QueensS = df_QueensS.append(df_shooting.loc[df_shooting['PRECINCT'] == 104])\n",
    "df_QueensS = df_QueensS.append(df_shooting.loc[df_shooting['PRECINCT'] == 105])\n",
    "df_QueensS = df_QueensS.append(df_shooting.loc[df_shooting['PRECINCT'] == 106])\n",
    "df_QueensS = df_QueensS.append(df_shooting.loc[df_shooting['PRECINCT'] == 107])\n",
    "df_QueensS = df_QueensS.append(df_shooting.loc[df_shooting['PRECINCT'] == 108])\n",
    "df_QueensS = df_QueensS.append(df_shooting.loc[df_shooting['PRECINCT'] == 109])\n",
    "df_QueensS = df_QueensS.append(df_shooting.loc[df_shooting['PRECINCT'] == 110])\n",
    "df_QueensS = df_QueensS.append(df_shooting.loc[df_shooting['PRECINCT'] == 111])\n",
    "df_QueensS = df_QueensS.append(df_shooting.loc[df_shooting['PRECINCT'] == 112])\n",
    "df_QueensS = df_QueensS.append(df_shooting.loc[df_shooting['PRECINCT'] == 113])\n",
    "df_QueensS = df_QueensS.append(df_shooting.loc[df_shooting['PRECINCT'] == 114])\n",
    "df_QueensS = df_QueensS.append(df_shooting.loc[df_shooting['PRECINCT'] == 115])\n",
    "df_SIS = df_shooting.loc[df_shooting['PRECINCT'] == 120]\n",
    "df_SIS = df_SIS.append(df_shooting.loc[df_shooting['PRECINCT'] == 121])\n",
    "df_SIS = df_SIS.append(df_shooting.loc[df_shooting['PRECINCT'] == 122])\n",
    "df_SIS = df_SIS.append(df_shooting.loc[df_shooting['PRECINCT'] == 123])\n",
    "\n",
    "\n",
    "df_BrooklynS = df_shooting.loc[df_shooting['PRECINCT'] == 60]\n",
    "df_BrooklynS = df_BrooklynS.append(df_shooting.loc[df_shooting['PRECINCT'] == 61])\n",
    "df_BrooklynS = df_BrooklynS.append(df_shooting.loc[df_shooting['PRECINCT'] == 62])\n",
    "df_BrooklynS = df_BrooklynS.append(df_shooting.loc[df_shooting['PRECINCT'] == 63])\n",
    "df_BrooklynS = df_BrooklynS.append(df_shooting.loc[df_shooting['PRECINCT'] == 66])\n",
    "df_BrooklynS = df_BrooklynS.append(df_shooting.loc[df_shooting['PRECINCT'] == 67])\n",
    "df_BrooklynS = df_BrooklynS.append(df_shooting.loc[df_shooting['PRECINCT'] == 68])\n",
    "df_BrooklynS = df_BrooklynS.append(df_shooting.loc[df_shooting['PRECINCT'] == 69])\n",
    "df_BrooklynS = df_BrooklynS.append(df_shooting.loc[df_shooting['PRECINCT'] == 70])\n",
    "df_BrooklynS = df_BrooklynS.append(df_shooting.loc[df_shooting['PRECINCT'] == 71])\n",
    "df_BrooklynS = df_BrooklynS.append(df_shooting.loc[df_shooting['PRECINCT'] == 72])\n",
    "df_BrooklynS = df_BrooklynS.append(df_shooting.loc[df_shooting['PRECINCT'] == 73])\n",
    "df_BrooklynS = df_BrooklynS.append(df_shooting.loc[df_shooting['PRECINCT'] == 75])\n",
    "df_BrooklynS = df_BrooklynS.append(df_shooting.loc[df_shooting['PRECINCT'] == 76])\n",
    "df_BrooklynS = df_BrooklynS.append(df_shooting.loc[df_shooting['PRECINCT'] == 77])\n",
    "df_BrooklynS = df_BrooklynS.append(df_shooting.loc[df_shooting['PRECINCT'] == 78])\n",
    "df_BrooklynS = df_BrooklynS.append(df_shooting.loc[df_shooting['PRECINCT'] == 79])\n",
    "df_BrooklynS = df_BrooklynS.append(df_shooting.loc[df_shooting['PRECINCT'] == 81])\n",
    "df_BrooklynS = df_BrooklynS.append(df_shooting.loc[df_shooting['PRECINCT'] == 83])\n",
    "df_BrooklynS = df_BrooklynS.append(df_shooting.loc[df_shooting['PRECINCT'] == 84])\n",
    "df_BrooklynS = df_BrooklynS.append(df_shooting.loc[df_shooting['PRECINCT'] == 88])\n",
    "df_BrooklynS = df_BrooklynS.append(df_shooting.loc[df_shooting['PRECINCT'] == 90])\n",
    "df_BrooklynS = df_BrooklynS.append(df_shooting.loc[df_shooting['PRECINCT'] == 94])\n",
    "\n",
    "\n",
    "df_BronxS = df_shooting.loc[df_shooting['PRECINCT'] == 40]\n",
    "df_BronxS = df_BronxS.append(df_shooting.loc[df_shooting['PRECINCT'] == 41])\n",
    "df_BronxS = df_BronxS.append(df_shooting.loc[df_shooting['PRECINCT'] == 42])\n",
    "df_BronxS = df_BronxS.append(df_shooting.loc[df_shooting['PRECINCT'] == 43])\n",
    "df_BronxS = df_BronxS.append(df_shooting.loc[df_shooting['PRECINCT'] == 44])\n",
    "df_BronxS = df_BronxS.append(df_shooting.loc[df_shooting['PRECINCT'] == 45])\n",
    "df_BronxS = df_BronxS.append(df_shooting.loc[df_shooting['PRECINCT'] == 46])\n",
    "df_BronxS = df_BronxS.append(df_shooting.loc[df_shooting['PRECINCT'] == 47])\n",
    "df_BronxS = df_BronxS.append(df_shooting.loc[df_shooting['PRECINCT'] == 48])\n",
    "df_BronxS = df_BronxS.append(df_shooting.loc[df_shooting['PRECINCT'] == 49])\n",
    "df_BronxS = df_BronxS.append(df_shooting.loc[df_shooting['PRECINCT'] == 50])\n",
    "df_BronxS = df_BronxS.append(df_shooting.loc[df_shooting['PRECINCT'] == 52])"
   ]
  },
  {
   "cell_type": "markdown",
   "metadata": {},
   "source": [
    "# State Island Borought Crime per 1000"
   ]
  },
  {
   "cell_type": "code",
   "execution_count": null,
   "metadata": {},
   "outputs": [],
   "source": [
    "479458/1000/(len(df_SI)+len(df_SIS))"
   ]
  },
  {
   "cell_type": "markdown",
   "metadata": {},
   "source": [
    "#  Queens Borought Crime Per 1000"
   ]
  },
  {
   "cell_type": "code",
   "execution_count": null,
   "metadata": {},
   "outputs": [],
   "source": [
    "2358582/1000/(len(df_Queens)+len(df_QueensS))"
   ]
  },
  {
   "cell_type": "markdown",
   "metadata": {},
   "source": [
    "# Brooklyn Borought Crime Per 1000"
   ]
  },
  {
   "cell_type": "code",
   "execution_count": null,
   "metadata": {},
   "outputs": [],
   "source": [
    "2648771/1000/(len(df_Brooklyn)+len(df_BrooklynS))"
   ]
  },
  {
   "cell_type": "markdown",
   "metadata": {},
   "source": [
    "# Bronx Borought Crime Per 1000"
   ]
  },
  {
   "cell_type": "code",
   "execution_count": null,
   "metadata": {},
   "outputs": [],
   "source": [
    "1471160/1000/(len(df_Bronx)+len(df_BronxS))"
   ]
  },
  {
   "cell_type": "markdown",
   "metadata": {},
   "source": [
    "# Manhattan Borought Crime Per 1000"
   ]
  },
  {
   "cell_type": "code",
   "execution_count": null,
   "metadata": {},
   "outputs": [],
   "source": [
    "1664727/1000/(len(df_Manhattan)+len(df_ManhattanS))"
   ]
  }
 ],
 "metadata": {
  "kernelspec": {
   "display_name": "Python 3",
   "language": "python",
   "name": "python3"
  },
  "language_info": {
   "codemirror_mode": {
    "name": "ipython",
    "version": 3
   },
   "file_extension": ".py",
   "mimetype": "text/x-python",
   "name": "python",
   "nbconvert_exporter": "python",
   "pygments_lexer": "ipython3",
   "version": "3.7.3"
  }
 },
 "nbformat": 4,
 "nbformat_minor": 2
}
