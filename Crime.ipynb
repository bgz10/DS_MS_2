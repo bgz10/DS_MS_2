{
 "cells": [
  {
   "cell_type": "code",
   "execution_count": 2,
   "metadata": {},
   "outputs": [],
   "source": [
    "import matplotlib.pyplot as plt\n",
    "import numpy as np\n",
    "import pandas as pd\n",
    "import urllib\n",
    "import matplotlib.dates as mdates\n",
    "import math"
   ]
  },
  {
   "cell_type": "code",
   "execution_count": 3,
   "metadata": {},
   "outputs": [],
   "source": [
    "df_arrest = pd.read_csv('NYPD_Arrest_Data__Year_to_Date_.csv')\n",
    "df_shooting = pd.read_csv('NYPD_Shooting_Incident_Data__Year_To_Date_.csv')\n",
    "pd.options.display.max_columns = 999"
   ]
  },
  {
   "cell_type": "markdown",
   "metadata": {},
   "source": [
    "# Addding all the District to their Borough"
   ]
  },
  {
   "cell_type": "code",
   "execution_count": 14,
   "metadata": {},
   "outputs": [],
   "source": [
    "df_Brooklyn = df_arrest.loc[df_arrest['ARREST_BORO'] == 'K']\n",
    "df_BrooklynS = df_shooting.loc[df_shooting['BORO'] == 'BROOKLYN']\n",
    "\n",
    "df_Manhattan = df_arrest.loc[df_arrest['ARREST_BORO'] == 'M']\n",
    "df_ManhattanS = df_shooting.loc[df_shooting['BORO'] == 'MANHATTAN']\n",
    "\n",
    "df_Queens = df_arrest.loc[df_arrest['ARREST_BORO'] == 'Q']\n",
    "df_QueensS = df_shooting.loc[df_shooting['BORO'] == 'QUEENS']\n",
    "\n",
    "df_Bronx = df_arrest.loc[df_arrest['ARREST_BORO'] == 'B']\n",
    "df_BronxS = df_shooting.loc[df_shooting['BORO'] == 'BRONX']\n",
    "\n",
    "df_SI = df_arrest.loc[df_arrest['ARREST_BORO'] == 'S']\n",
    "df_SIS = df_shooting.loc[df_shooting['BORO'] == 'STATEN ISLAND']"
   ]
  },
  {
   "cell_type": "markdown",
   "metadata": {},
   "source": [
    "# State Island Borought Crime per 1000"
   ]
  },
  {
   "cell_type": "code",
   "execution_count": 16,
   "metadata": {},
   "outputs": [
    {
     "data": {
      "text/plain": [
       "0.06684204656350203"
      ]
     },
     "execution_count": 16,
     "metadata": {},
     "output_type": "execute_result"
    }
   ],
   "source": [
    "479458/1000/(len(df_SI)+len(df_SIS))"
   ]
  },
  {
   "cell_type": "markdown",
   "metadata": {},
   "source": [
    "#  Queens Borought Crime Per 1000"
   ]
  },
  {
   "cell_type": "code",
   "execution_count": 17,
   "metadata": {},
   "outputs": [
    {
     "data": {
      "text/plain": [
       "0.06739768538362623"
      ]
     },
     "execution_count": 17,
     "metadata": {},
     "output_type": "execute_result"
    }
   ],
   "source": [
    "2358582/1000/(len(df_Queens)+len(df_QueensS))"
   ]
  },
  {
   "cell_type": "markdown",
   "metadata": {},
   "source": [
    "# Brooklyn Borought Crime Per 1000"
   ]
  },
  {
   "cell_type": "code",
   "execution_count": 18,
   "metadata": {},
   "outputs": [
    {
     "data": {
      "text/plain": [
       "0.057419705181010194"
      ]
     },
     "execution_count": 18,
     "metadata": {},
     "output_type": "execute_result"
    }
   ],
   "source": [
    "2648771/1000/(len(df_Brooklyn)+len(df_BrooklynS))"
   ]
  },
  {
   "cell_type": "markdown",
   "metadata": {},
   "source": [
    "# Bronx Borought Crime Per 1000"
   ]
  },
  {
   "cell_type": "code",
   "execution_count": 19,
   "metadata": {},
   "outputs": [
    {
     "data": {
      "text/plain": [
       "0.0382040095564558"
      ]
     },
     "execution_count": 19,
     "metadata": {},
     "output_type": "execute_result"
    }
   ],
   "source": [
    "1471160/1000/(len(df_Bronx)+len(df_BronxS))"
   ]
  },
  {
   "cell_type": "markdown",
   "metadata": {},
   "source": [
    "# Manhattan Borought Crime Per 1000"
   ]
  },
  {
   "cell_type": "code",
   "execution_count": 20,
   "metadata": {},
   "outputs": [
    {
     "data": {
      "text/plain": [
       "0.0397233702395724"
      ]
     },
     "execution_count": 20,
     "metadata": {},
     "output_type": "execute_result"
    }
   ],
   "source": [
    "1664727/1000/(len(df_Manhattan)+len(df_ManhattanS))"
   ]
  },
  {
   "cell_type": "code",
   "execution_count": null,
   "metadata": {},
   "outputs": [],
   "source": []
  },
  {
   "cell_type": "code",
   "execution_count": null,
   "metadata": {},
   "outputs": [],
   "source": []
  }
 ],
 "metadata": {
  "kernelspec": {
   "display_name": "Python 3",
   "language": "python",
   "name": "python3"
  },
  "language_info": {
   "codemirror_mode": {
    "name": "ipython",
    "version": 3
   },
   "file_extension": ".py",
   "mimetype": "text/x-python",
   "name": "python",
   "nbconvert_exporter": "python",
   "pygments_lexer": "ipython3",
   "version": "3.7.3"
  }
 },
 "nbformat": 4,
 "nbformat_minor": 2
}
