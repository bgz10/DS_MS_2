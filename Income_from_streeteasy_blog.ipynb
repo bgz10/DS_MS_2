{
 "cells": [
  {
   "cell_type": "code",
   "execution_count": null,
   "metadata": {},
   "outputs": [],
   "source": [
    "import numpy as np\n",
    "import pandas as pd"
   ]
  },
  {
   "cell_type": "code",
   "execution_count": null,
   "metadata": {},
   "outputs": [],
   "source": [
    "#initialize list of lists from https://streeteasy.com/blog/cost-of-living-nyc-income-housing-all-5-boroughs/\n",
    "\n",
    "#every area has 'Annual Housing Cost', 'Annual Income', 'Cost-To-Icome ratio %'' for 'Renters' and 'Homeowners' in that order.\n",
    "\n",
    "staten_island = [['Staten Island','Annual Housing Cost', 14292,28752],\n",
    "                 ['Staten Island','Annual Income', 37882,94177], \n",
    "                 ['Staten Island','Cost-To-Income Ratio %', 0.38,0.31]]\n",
    "\n",
    "queens = [['Queens','Annual Housing Cost', 16812,29256], \n",
    "          ['Queens','Annual Income', 46549,80144], \n",
    "          ['Queens','Cost-To-Income Ratio %', 0.36,0.37]]\n",
    "\n",
    "brooklyn = [['brooklyn','Annual Housing Cost', 15144,31908], \n",
    "            ['brooklyn','Annual Income', 40128,83737], \n",
    "            ['brooklyn','Cost-To-Income Ratio %', 0.38,0.38]]\n",
    "\n",
    "manhattan = [['manhattan','Annual Housing Cost', 18900,36252], \n",
    "             ['manhattan','Annual Income', 62173,142046], \n",
    "             ['manhattan','Cost-To-Income Ratio %', 0.30,0.26]]\n",
    "\n",
    "bronx = [['bronx','Annual Housing Cost', 13176,28548], \n",
    "         ['bronx','Annual Income', 29302,76454], \n",
    "         ['bronx','Cost-To-Income Ratio %', 0.45,0.37]]\n",
    "\n",
    "\n",
    "all_listed = [['Staten Island','Annual Housing Cost', 14292,28752],\n",
    "              ['Staten Island','Annual Income', 37882,94177],\n",
    "              ['Staten Island','Cost-To-Income Ratio %', 0.38,0.31],\n",
    "              ['Queens','Annual Housing Cost', 16812,29256], \n",
    "              ['Queens','Annual Income', 46549,80144], \n",
    "              ['Queens','Cost-To-Income Ratio %', 0.36,0.37],\n",
    "              ['brooklyn','Annual Housing Cost', 15144,31908], \n",
    "              ['brooklyn','Annual Income', 40128,83737], \n",
    "              ['brooklyn','Cost-To-Income Ratio %', 0.38,0.38],\n",
    "              ['manhattan','Annual Housing Cost', 18900,36252], \n",
    "              ['manhattan','Annual Income', 62173,142046], \n",
    "              ['manhattan','Cost-To-Income Ratio %', 0.30,0.26],\n",
    "              ['bronx','Annual Housing Cost', 13176,28548], \n",
    "              ['bronx','Annual Income', 29302,76454], \n",
    "              ['bronx','Cost-To-Income Ratio %', 0.45,0.37]] \n",
    "\n",
    "\n",
    "\n",
    "\n",
    "df = pd.DataFrame(all_listed, columns = ['Area','Type','Renters', 'Homeowners']) \n",
    "df"
   ]
  },
  {
   "cell_type": "code",
   "execution_count": null,
   "metadata": {},
   "outputs": [],
   "source": []
  }
 ],
 "metadata": {
  "kernelspec": {
   "display_name": "Python 3",
   "language": "python",
   "name": "python3"
  },
  "language_info": {
   "codemirror_mode": {
    "name": "ipython",
    "version": 3
   },
   "file_extension": ".py",
   "mimetype": "text/x-python",
   "name": "python",
   "nbconvert_exporter": "python",
   "pygments_lexer": "ipython3",
   "version": "3.7.4"
  }
 },
 "nbformat": 4,
 "nbformat_minor": 2
}
