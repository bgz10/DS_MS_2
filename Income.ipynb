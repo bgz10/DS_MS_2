{
 "cells": [
  {
   "cell_type": "code",
   "execution_count": 20,
   "metadata": {},
   "outputs": [],
   "source": [
    "\n",
    "import numpy as np\n",
    "import pandas as pd"
   ]
  },
  {
   "cell_type": "code",
   "execution_count": 23,
   "metadata": {},
   "outputs": [
    {
     "data": {
      "text/html": [
       "<div>\n",
       "<style scoped>\n",
       "    .dataframe tbody tr th:only-of-type {\n",
       "        vertical-align: middle;\n",
       "    }\n",
       "\n",
       "    .dataframe tbody tr th {\n",
       "        vertical-align: top;\n",
       "    }\n",
       "\n",
       "    .dataframe thead th {\n",
       "        text-align: right;\n",
       "    }\n",
       "</style>\n",
       "<table border=\"1\" class=\"dataframe\">\n",
       "  <thead>\n",
       "    <tr style=\"text-align: right;\">\n",
       "      <th></th>\n",
       "      <th></th>\n",
       "      <th>New York city, New York</th>\n",
       "      <th>Bronx County (Bronx Borough), New York</th>\n",
       "      <th>Kings County (Brooklyn Borough), New York</th>\n",
       "      <th>New York County (Manhattan Borough), New York</th>\n",
       "      <th>Queens County (Queens Borough), New York</th>\n",
       "      <th>Richmond County (Staten Island Borough), New York</th>\n",
       "    </tr>\n",
       "  </thead>\n",
       "  <tbody>\n",
       "    <tr>\n",
       "      <td>0</td>\n",
       "      <td>Median Houshold Income</td>\n",
       "      <td>57782</td>\n",
       "      <td>36593</td>\n",
       "      <td>52782</td>\n",
       "      <td>79781</td>\n",
       "      <td>62008</td>\n",
       "      <td>76244</td>\n",
       "    </tr>\n",
       "  </tbody>\n",
       "</table>\n",
       "</div>"
      ],
      "text/plain": [
       "                           New York city, New York  \\\n",
       "0  Median Houshold Income                    57782   \n",
       "\n",
       "   Bronx County (Bronx Borough), New York  \\\n",
       "0                                   36593   \n",
       "\n",
       "   Kings County (Brooklyn Borough), New York  \\\n",
       "0                                      52782   \n",
       "\n",
       "   New York County (Manhattan Borough), New York  \\\n",
       "0                                          79781   \n",
       "\n",
       "   Queens County (Queens Borough), New York  \\\n",
       "0                                     62008   \n",
       "\n",
       "   Richmond County (Staten Island Borough), New York  \n",
       "0                                              76244  "
      ]
     },
     "execution_count": 23,
     "metadata": {},
     "output_type": "execute_result"
    }
   ],
   "source": [
    "#Median houshold income, in 2017 dollars. 2013-2017 from census.gov\n",
    "\n",
    "data_from_censusGov = [['Median Houshold Income', 57782, 36593, 52782,79781,62008, 76244]] #\n",
    " \n",
    "income = pd.DataFrame(data_from_censusGov, columns = ['','New York city, New York','Bronx County (Bronx Borough), New York','Kings County (Brooklyn Borough), New York','New York County (Manhattan Borough), New York','Queens County (Queens Borough), New York','Richmond County (Staten Island Borough), New York']) #\n",
    "income.head()"
   ]
  },
  {
   "cell_type": "code",
   "execution_count": null,
   "metadata": {},
   "outputs": [],
   "source": []
  }
 ],
 "metadata": {
  "kernelspec": {
   "display_name": "Python 3",
   "language": "python",
   "name": "python3"
  },
  "language_info": {
   "codemirror_mode": {
    "name": "ipython",
    "version": 3
   },
   "file_extension": ".py",
   "mimetype": "text/x-python",
   "name": "python",
   "nbconvert_exporter": "python",
   "pygments_lexer": "ipython3",
   "version": "3.7.4"
  }
 },
 "nbformat": 4,
 "nbformat_minor": 2
}
