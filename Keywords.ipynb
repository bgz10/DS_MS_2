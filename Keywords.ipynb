{
 "cells": [
  {
   "cell_type": "code",
   "execution_count": null,
   "metadata": {},
   "outputs": [],
   "source": [
    "#importing necessery libraries for future analysis of the dataset\n",
    "import numpy as np\n",
    "import pandas as pd\n",
    "import matplotlib.pyplot as plt\n",
    "%matplotlib inline\n",
    "\n",
    "import seaborn as sns\n",
    "#import nltk\n",
    "#To open dialog download:\n",
    "#nltk.download();\n",
    "#To downlaod just stopwords:\n",
    "#nltk.download('stopwords');\n",
    "\n",
    "\n",
    "import nltk\n",
    "\n",
    "import nltk.corpus\n",
    "# two types of stemmers. PorterStemmer algorithm from 1979. PorterStemmer uses Suffix Stripping to produce stems. \n",
    "\n",
    "from nltk.stem import PorterStemmer\n",
    "#PorterStemmer algorithm does not follow linguistics rather a set of 05 rules for different cases that are applied in phases\n",
    "#(step by step) to generate stems. \n",
    "#This is the reason why PorterStemmer does not often generate stems that are actual English words.\n",
    "#It does not keep a lookup table for actual stems of the word but applies algorithmic rules to generate stems.\n",
    "#PorterStemmer is known for its simplicity and speed. \n",
    "\n",
    "from nltk.stem import LancasterStemmer\n",
    "#The LancasterStemmer (Paice-Husk stemmer) is an iterative algorithm with rules saved externally.\n",
    "#One table containing about 120 rules indexed by the last letter of a suffix. \n",
    "#On each iteration, it tries to find an applicable rule by the last character of the word. \n",
    "#Each rule specifies either a deletion or replacement of an ending. If there is no such rule, it terminates. \n",
    "#It also terminates if a word starts with a vowel and there are only two letters left\n",
    "#or if a word starts with a consonant and there are only three characters left. \n",
    "#Otherwise, the rule is applied, and the process repeats.\n",
    "#LancasterStemmer is simple, but heavy stemming due to iterations and over-stemming may occur. \n",
    "#Over-stemming causes the stems to be not linguistic, or they may have no meaning.\n",
    "\n",
    "\n",
    "\n",
    "from nltk.corpus import stopwords\n",
    "from nltk import word_tokenize\n",
    "from nltk.stem import WordNetLemmatizer\n",
    "import string\n",
    "nltk.download('stopwords')\n",
    "nltk.download('punkt')\n",
    "nltk.download('wordnet')\n",
    "nltk.download('maxent_ne_chunker')\n",
    "nltk.download('words')"
   ]
  },
  {
   "cell_type": "code",
   "execution_count": null,
   "metadata": {},
   "outputs": [],
   "source": [
    "#using pandas library and 'read_csv' function to read csv file \n",
    "airbnb=pd.read_csv('AB_NYC_2019.csv')\n",
    "#examing head of csv file \n",
    "#airbnb.head(30)"
   ]
  },
  {
   "cell_type": "code",
   "execution_count": null,
   "metadata": {},
   "outputs": [],
   "source": [
    "#removing Stop Words such as “the”, “a”, “an”, “in”\n",
    "\n",
    "stop_words = set(stopwords.words('english'))\n",
    "\n",
    "\n",
    "#initializing empty list where we are going to put our name strings\n",
    "names=[]\n",
    "\n",
    "#getting name strings from the column and appending it to the list\n",
    "for name in airbnb.name:\n",
    "    names.append(name)\n",
    "    \n",
    "#setting a function that will split those name strings into separate words   \n",
    "def split_name(name):\n",
    "    spl=str(name).split()\n",
    "    return spl\n",
    "\n",
    "#initializing empty list where we are going to have words counted\n",
    "names_for_count=[]\n",
    "\n",
    "#getting name string from our list and using split function, later appending to list above\n",
    "for x in names:\n",
    "    for word in split_name(x):\n",
    "        word=word.lower()\n",
    "        names_for_count.append(word)\n",
    "        \n",
    "\n",
    "    \n",
    "no_stop_words = [w for w in names_for_count if not w in stop_words]\n",
    "\n",
    "#lemmatizing the list of keywords. \n",
    "#Lemmatization, unlike Stemming, reduces the inflected words properly ensuring that the root word belongs to the language. \n",
    "#In Lemmatization root word is called Lemma.\n",
    "#A lemma (plural lemmas or lemmata) is the canonical form, dictionary form, or citation form of a set of words.\n",
    "lemmatizer = WordNetLemmatizer() \n",
    "lemmatized_words = [lemmatizer.lemmatize(w) for w in no_stop_words] #, pos=\"v\" as parameter to lemmatize\n"
   ]
  },
  {
   "cell_type": "code",
   "execution_count": null,
   "metadata": {},
   "outputs": [],
   "source": [
    "#getting rid of punctiations and numbers.\n",
    "cleaned_and_lemmatized = []\n",
    "\n",
    "no_punctuation = [x.translate(str.maketrans('','',string.punctuation)) for x in lemmatized_words] #unique_lemmatized_words\n",
    "\n",
    "no_digits = [x.translate(str.maketrans('','',\"0123456789\")) for x in no_punctuation ]\n",
    "        \n",
    "for item in no_digits:\n",
    "    cleaned_and_lemmatized.append(item)"
   ]
  },
  {
   "cell_type": "code",
   "execution_count": null,
   "metadata": {},
   "outputs": [],
   "source": [
    "#getting rid of empty strings\n",
    "\n",
    "cleaned_and_lemmatized = [i for i in cleaned_and_lemmatized if i] \n",
    "\n",
    "\n",
    "type(cleaned_and_lemmatized)\n",
    "cleaned_and_lemmatized\n",
    "\n",
    "\n",
    "\n"
   ]
  },
  {
   "cell_type": "code",
   "execution_count": null,
   "metadata": {},
   "outputs": [],
   "source": [
    "#we are going to use counter to count the x most used words(30).\n",
    "\n",
    "from collections import Counter\n",
    "#let's see top 30 used words by host to name their listing\n",
    "top_30_w=Counter(cleaned_and_lemmatized).most_common() #unique_meaningful_words / cleaned_and_lemmatized\n",
    "top_30_w=top_30_w[0:30]"
   ]
  },
  {
   "cell_type": "code",
   "execution_count": null,
   "metadata": {},
   "outputs": [],
   "source": [
    "top_30_w"
   ]
  },
  {
   "cell_type": "code",
   "execution_count": null,
   "metadata": {},
   "outputs": [],
   "source": [
    "#now let's put our findings in dataframe for further visualizations\n",
    "keywordsDF=pd.DataFrame(top_30_w)\n",
    "keywordsDF.rename(columns={0:'Words', 1:'Count'}, inplace=True)"
   ]
  },
  {
   "cell_type": "code",
   "execution_count": null,
   "metadata": {},
   "outputs": [],
   "source": [
    "#we are going to use barplot for this visualization\n",
    "viz_5=sns.barplot(x='Words', y='Count', data=keywordsDF)\n",
    "viz_5.set_title('Counts of the top 30 used words for listing names')\n",
    "viz_5.set_ylabel('Count of words')\n",
    "viz_5.set_xlabel('Words')\n",
    "viz_5.set_xticklabels(viz_5.get_xticklabels(), rotation=80)"
   ]
  },
  {
   "cell_type": "code",
   "execution_count": null,
   "metadata": {},
   "outputs": [],
   "source": []
  }
 ],
 "metadata": {
  "kernelspec": {
   "display_name": "Python 3",
   "language": "python",
   "name": "python3"
  },
  "language_info": {
   "codemirror_mode": {
    "name": "ipython",
    "version": 3
   },
   "file_extension": ".py",
   "mimetype": "text/x-python",
   "name": "python",
   "nbconvert_exporter": "python",
   "pygments_lexer": "ipython3",
   "version": "3.7.4"
  }
 },
 "nbformat": 4,
 "nbformat_minor": 2
}
